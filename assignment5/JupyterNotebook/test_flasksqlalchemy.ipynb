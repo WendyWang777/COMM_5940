{
 "cells": [
  {
   "cell_type": "code",
   "execution_count": 1,
   "metadata": {},
   "outputs": [],
   "source": [
    "import pymysql\n",
    "pymysql.install_as_MySQLdb()"
   ]
  },
  {
   "cell_type": "code",
   "execution_count": 2,
   "metadata": {},
   "outputs": [],
   "source": [
    "from kpl_model import *"
   ]
  },
  {
   "cell_type": "code",
   "execution_count": 3,
   "metadata": {
    "scrolled": true
   },
   "outputs": [
    {
     "name": "stdout",
     "output_type": "stream",
     "text": [
      "(1, 'RW', 'EAST', 'Cat, Huahai, WuMing, Alan, NuoYan', 'RW,eStarPro,eStarPro,eStarPro,eStarPro', 'https://dl.airtable.com/.attachments/bf1d0ce0f98ed9fba61205fbaddf502e/5df79361/ESTAR.png', 'eStar pro是东部地区战队，主场武汉，曾获2019年春季赛总冠军。首发队员：eStar.Cat 中单；eStar.Huahai 打野 ；eStar.Wuming 辅助；eStar.Nuoyan 边路 ； eStar.Alan 边路。')\n",
      "(2, 'RNG.M', 'EAST', 'QianC, LiangChen, Storm, Zero, YUYU', 'RNG.M,RNG.M,eStarPro', 'https://dl.airtable.com/.attachments/3b17adc64ea2769f8047b6a61f850fa5/c3ccc128/RNG.png', 'RNG.M是东部地区战队，主场上海，曾获2019年春季赛亚军。首发队员：RNGM.Strom 中单；RNGM.QianC打野 ；RNGM.Zero 辅助；RNGM.LiangChen 边路 ；RNGM.YuYu 边路。')\n",
      "(3, 'RW', 'WEST', 'Djie, Dnan, Huamanlou, ChengKun, Yguo', 'RW,RNG.M,eStarPro', 'https://dl.airtable.com/.attachments/e59d6c88c6d2c26feca5e733782ebeb3/bccd81c5/RW.png', 'RW侠是西部战队，主场成都，曾获2019年世界冠军杯亚军。首发队员：RW.YGuo 中单；RW.Huamanlou打野 ；RW.Chengkun 辅助；RW.Djie 边路 ；RW.Dnan 边路。')\n",
      "(4, 'GK', 'WEST', 'PengPeng, PangDun, God.Mi, Qingfeng, Agai', 'GK,RNG.M,eStarPro', 'https://dl.airtable.com/.attachments/f5c7ec20d2d25a8c548d4b5f86348582/0e740cc6/GK.png', 'GK是西部战队，主场成都，曾获2019年春季赛常规赛西部第一。首发队员：GK.Qingfeng 中单；GK.Pengpeng打野 ；GK.Pangdun 辅助；GK.GodMi边路 ；GK.Agai 边路。')\n",
      "(5, 'QG HAPPY', 'EAST', 'Fly, Hurt, Snow, Mojo, Hico', 'eStarPro', 'https://dl.airtable.com/.attachments/86081b46e5892483987d1cfed5d5578a/3fbf24e5/QG.png', 'QG Happy是东部战队，主场重庆，曾获2019年秋季赛亚军。首发队员：QG.Mojo 中单；QG.Hico打野 ；QG.Snow 辅助；QG.Fly边路 ；QG.Hurt 边路。')\n",
      "(6, 'HERO', 'WEST', 'JiuC, ZuiChu, Chenxia, NingZhi, JiuLong', 'GK', 'https://dl.airtable.com/.attachments/3336bc0f40c9ee14f8ab743faa0b8c7f/1d62dc84/HERO.png', 'HERO久竞是西部战队，主场南京，2018年大满贯战队。首发队员：Hero.JiuC 中单；Hero.JiuLong打野 ；Hero.ZuiChu 辅助；Hero.ChenXia 边路 ；Hero.NingZhi 边路。')\n",
      "(7, 'EDG.M', 'EAST', 'Chuchen, KoKo, L Lang, Ache, XuanZe', 'TS', 'https://dl.airtable.com/.attachments/78aadd2a46a04aa6c3c7a865cc0e307a/31e0b37f/EDGM.png', 'EDG.M是东部战队，主场上海，2018年秋季赛亚军。首发队员：EDGM.LLang 中单；EDGM.Chuchen打野 ；EDGM.Koko辅助；EDGM.Ache 边路 ；EDGM.Xuanze边路。')\n",
      "(8, 'TS', 'WEST', 'ADOU, ShenRen, NuanYang, Thirteen, PoSui', 'TS,HERO', 'https://dl.airtable.com/.attachments/bc7a05584c4e1910db902f13c9d7e97b/24207377/TS.png', 'TS是西部战队，主场成都。首发队员：TS.Posui 中单；TS.Nuanyang打野 ；TS.Adou辅助；TS.Thirteen 边路 ；TS.Shenren边路。')\n",
      "(9, 'WE', 'WEST', 'BangTu, 994, DogRan, 762, Ooz', 'WE,QG HAPPY', 'https://dl.airtable.com/.attachments/8745ec64783fae26204d3c66ff8fed08/bb4f6358/we.png', 'WE是西部战队，主场成都。首发队员：WE.Dogran 中单；WE.Bangtu打野 ；WE.994辅助；WE.OOZ 边路 ；WE.762边路。')\n",
      "(10, 'VG', 'WEST', 'PaPaxiong, ETong, Smile, Kong, Tgod', 'WE', 'https://dl.airtable.com/.attachments/df792f1eafe760f999522df6542cb00a/793bb43d/VG.png', 'VG是西部战队，主场广州。首发队员：VG.Kong中单；VG.Etong打野 ；VG.Papaxiong辅助；VG.Tgod边路 ；VG.smile边路。')\n",
      "(12, 'AG', 'East', 'Yinuo,Laoshuai,LIUDIANLIU', 'RNG.M', 'http//sdd', '银河战舰')\n",
      "(13, 'AG', 'East', 'Yinuo,Laoshuai,LIUDIANLIU', 'RNG.M', 'http//sdd', '银河战舰')\n"
     ]
    }
   ],
   "source": [
    "result = db.engine.execute('select * from kpl')\n",
    "for i in result:\n",
    "    print(i)\n"
   ]
  },
  {
   "cell_type": "code",
   "execution_count": 4,
   "metadata": {},
   "outputs": [
    {
     "name": "stdout",
     "output_type": "stream",
     "text": [
      "[{'teamID': 1, 'team': 'RW', 'area': 'EAST', 'lineup_members': 'Cat, Huahai, WuMing, Alan, NuoYan', 'schedules': 'RW,eStarPro,eStarPro,eStarPro,eStarPro'}, {'teamID': 2, 'team': 'RNG.M', 'area': 'EAST', 'lineup_members': 'QianC, LiangChen, Storm, Zero, YUYU', 'schedules': 'RNG.M,RNG.M,eStarPro'}, {'teamID': 3, 'team': 'RW', 'area': 'WEST', 'lineup_members': 'Djie, Dnan, Huamanlou, ChengKun, Yguo', 'schedules': 'RW,RNG.M,eStarPro'}, {'teamID': 4, 'team': 'GK', 'area': 'WEST', 'lineup_members': 'PengPeng, PangDun, God.Mi, Qingfeng, Agai', 'schedules': 'GK,RNG.M,eStarPro'}, {'teamID': 5, 'team': 'QG HAPPY', 'area': 'EAST', 'lineup_members': 'Fly, Hurt, Snow, Mojo, Hico', 'schedules': 'eStarPro'}, {'teamID': 6, 'team': 'HERO', 'area': 'WEST', 'lineup_members': 'JiuC, ZuiChu, Chenxia, NingZhi, JiuLong', 'schedules': 'GK'}, {'teamID': 7, 'team': 'EDG.M', 'area': 'EAST', 'lineup_members': 'Chuchen, KoKo, L Lang, Ache, XuanZe', 'schedules': 'TS'}, {'teamID': 8, 'team': 'TS', 'area': 'WEST', 'lineup_members': 'ADOU, ShenRen, NuanYang, Thirteen, PoSui', 'schedules': 'TS,HERO'}, {'teamID': 9, 'team': 'WE', 'area': 'WEST', 'lineup_members': 'BangTu, 994, DogRan, 762, Ooz', 'schedules': 'WE,QG HAPPY'}, {'teamID': 10, 'team': 'VG', 'area': 'WEST', 'lineup_members': 'PaPaxiong, ETong, Smile, Kong, Tgod', 'schedules': 'WE'}, {'teamID': 12, 'team': 'AG', 'area': 'East', 'lineup_members': 'Yinuo,Laoshuai,LIUDIANLIU', 'schedules': 'RNG.M'}, {'teamID': 13, 'team': 'AG', 'area': 'East', 'lineup_members': 'Yinuo,Laoshuai,LIUDIANLIU', 'schedules': 'RNG.M'}]\n"
     ]
    }
   ],
   "source": [
    "result = db.engine.execute('select * from kpl')\n",
    "final_result = [list(i) for i in result]\n",
    "dataset=[]\n",
    "dict={}\n",
    "for i in final_result:\n",
    "    dict['teamID'] = i[0]\n",
    "    dict['team'] = i[1]\n",
    "    dict['area'] = i[2]\n",
    "    dict['lineup_members'] = i[3]\n",
    "    dict['schedules'] = i[4]\n",
    "    # print(i)\n",
    "    # print(dict)\n",
    "    dataset.append(dict.copy()) #markers.append(fld.copy())\n",
    "print(dataset)"
   ]
  },
  {
   "cell_type": "code",
   "execution_count": 6,
   "metadata": {},
   "outputs": [],
   "source": [
    "# Update Example\n",
    "tid = 1\n",
    "kpl = KPL.query.filter_by(teamID=tid).first()\n",
    "kpl.team = \"eStarPro\"\n",
    "db.session.commit()"
   ]
  },
  {
   "cell_type": "code",
   "execution_count": 7,
   "metadata": {
    "scrolled": true
   },
   "outputs": [],
   "source": [
    "# Insert Example\n",
    "kpl = KPL(team='AG',area=\"East\",lineup_members=\"Yinuo,Laoshuai,LIUDIANLIU\",schedules=\"RNG.M\",url=\"http//sdd\",desc=\"银河战舰\")\n",
    "db.session.add(kpl)\n",
    "db.session.commit()"
   ]
  },
  {
   "cell_type": "code",
   "execution_count": 8,
   "metadata": {},
   "outputs": [],
   "source": [
    "# Delete Example\n",
    "tid = 12\n",
    "kpl = KPL.query.filter_by(teamID=tid).first()\n",
    "db.session.delete(kpl)\n",
    "db.session.commit()"
   ]
  },
  {
   "cell_type": "code",
   "execution_count": null,
   "metadata": {},
   "outputs": [],
   "source": []
  },
  {
   "cell_type": "code",
   "execution_count": null,
   "metadata": {},
   "outputs": [],
   "source": []
  }
 ],
 "metadata": {
  "kernelspec": {
   "display_name": "Python 3",
   "language": "python",
   "name": "python3"
  },
  "language_info": {
   "codemirror_mode": {
    "name": "ipython",
    "version": 3
   },
   "file_extension": ".py",
   "mimetype": "text/x-python",
   "name": "python",
   "nbconvert_exporter": "python",
   "pygments_lexer": "ipython3",
   "version": "3.7.4"
  }
 },
 "nbformat": 4,
 "nbformat_minor": 2
}
