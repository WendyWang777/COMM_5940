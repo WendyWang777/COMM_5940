{
 "cells": [
  {
   "cell_type": "markdown",
   "metadata": {},
   "source": [
    "<h1>MySQL and Airtable Data Access</h1>"
   ]
  },
  {
   "cell_type": "code",
   "execution_count": 3,
   "metadata": {},
   "outputs": [
    {
     "name": "stdout",
     "output_type": "stream",
     "text": [
      "Requirement already satisfied: PyMySQL in /opt/anaconda3/lib/python3.7/site-packages (0.9.3)\r\n"
     ]
    }
   ],
   "source": [
    "!pip install PyMySQL"
   ]
  },
  {
   "cell_type": "code",
   "execution_count": 13,
   "metadata": {},
   "outputs": [],
   "source": [
    "import pymysql.cursors\n",
    "connection=pymysql.connect(host=\"localhost\",\n",
    "                     user=\"root\",\n",
    "                     passwd=\"root\",\n",
    "                     db=\"KPL\",\n",
    "                     charset='utf8mb4',\n",
    "                     cursorclass=pymysql.cursors.DictCursor)"
   ]
  },
  {
   "cell_type": "code",
   "execution_count": 25,
   "metadata": {},
   "outputs": [
    {
     "name": "stdout",
     "output_type": "stream",
     "text": [
      "\n",
      "\n",
      "[{'me1': 'Cat', 'name2': 'Cheng Zhengzheng', 'photo': 'cat.png (https://dl.airtable.com/.attachments/75e8f3696e9ba364aaf5f254dc10e7b0/74dc802d/cat.png)', 'position': 'MID', 'teamname': 'eStarPro', 'Team View': 'eStarPro'}, {'me1': 'Alan', 'name2': 'Wang Tianlong', 'photo': 'alan.png (https://dl.airtable.com/.attachments/c153e9c72d832d279ee4a811e4b97139/8c219c22/alan.png)', 'position': 'BOT', 'teamname': 'eStarPro', 'Team View': 'eStarPro'}, {'me1': 'Huahai', 'name2': 'Luo Siyuan', 'photo': 'huahai.jpg (https://dl.airtable.com/.attachments/964626ad7ba60dc24f831cbc29620501/0e411e47/huahai.jpg)', 'position': 'JUNGLE', 'teamname': 'eStarPro', 'Team View': 'eStarPro'}, {'me1': 'NuoYan', 'name2': 'Guo Guixin', 'photo': 'nuoyan.png (https://dl.airtable.com/.attachments/59bda9432d4aa4cc983086c7a532c368/03cfc86e/nuoyan.png)', 'position': 'TOP', 'teamname': 'eStarPro', 'Team View': 'eStarPro'}, {'me1': 'WuMing', 'name2': 'Zhang Cong', 'photo': 'wuming.png (https://dl.airtable.com/.attachments/336a6f9547a7f586c98eb3b61453a207/c74578c0/wuming.png)', 'position': 'SUPPORT', 'teamname': 'eStarPro', 'Team View': 'eStarPro'}, {'me1': 'QianC', 'name2': 'Liu Xuehuang', 'photo': 'qiancheng.png (https://dl.airtable.com/.attachments/adf5a6ad91c1a40e877ae46c28d81447/02315ca3/qiancheng.png)', 'position': 'JUNGLE', 'teamname': 'RNG.M', 'Team View': 'RNG.M'}, {'me1': 'LiangChen', 'name2': 'Zhang Qi', 'photo': 'liangchen.png (https://dl.airtable.com/.attachments/f9c5eda7c7c584806f4d9c264b365203/8d2d9b40/liangchen.png)', 'position': 'TOP', 'teamname': 'RNG.M', 'Team View': 'RNG.M'}, {'me1': 'Storm', 'name2': 'Liu Weijie', 'photo': 'storm.png (https://dl.airtable.com/.attachments/16582869e0b85c9464bcdbaf28f66fb5/f6add458/storm.png)', 'position': 'MID', 'teamname': 'RNG.M', 'Team View': 'RNG.M'}, {'me1': 'Zero', 'name2': 'Xie Wensheng', 'photo': 'zero.png (https://dl.airtable.com/.attachments/b859bbd74f9c01dc1d3dd3c708382766/208c30c6/zero.png)', 'position': 'SUPPORT', 'teamname': 'RNG.M', 'Team View': 'RNG.M'}, {'me1': 'YUYU', 'name2': 'Yu Chaojie', 'photo': 'yuyu.png (https://dl.airtable.com/.attachments/9a34b1655ba8993a613d6eaada924426/8c730746/yuyu.png)', 'position': 'BOT', 'teamname': 'RNG.M', 'Team View': 'RNG.M'}, {'me1': 'PengPeng', 'name2': 'Lu Jiapeng', 'photo': 'pengpeng.png (https://dl.airtable.com/.attachments/128151f0cc6b9d7edd7c7eb380510b2e/be61d4ea/pengpeng.png)', 'position': 'JUNGLE', 'teamname': 'GK', 'Team View': 'GK'}, {'me1': 'PangDun', 'name2': 'Han Shuai', 'photo': 'pangdun.png (https://dl.airtable.com/.attachments/3cbea29220cfa82adcdb5d396cdc944d/8e26eaf4/pangdun.png)', 'position': 'SUPPORT', 'teamname': 'GK', 'Team View': 'GK'}, {'me1': 'God.Mi', 'name2': 'Lin Guoliang', 'photo': 'mishen.png (https://dl.airtable.com/.attachments/434eff23a504db42bb7b6f0f00cba2fb/b724752d/mishen.png)', 'position': 'TOP', 'teamname': 'GK', 'Team View': 'GK'}, {'me1': 'Qingfeng', 'name2': 'Du Zhou', 'photo': 'Qingfeng.png (https://dl.airtable.com/.attachments/3966c4ba23f2a80946f51e3ab13b1be7/a83d60a8/Qingfeng.png)', 'position': 'MID', 'teamname': 'GK', 'Team View': 'GK'}, {'me1': 'Agai', 'name2': 'Yang Tingpu', 'photo': 'agai.png (https://dl.airtable.com/.attachments/c78fe0ed6d482d8c37f6e69e02209288/97fb518f/agai.png)', 'position': 'BOT', 'teamname': 'GK', 'Team View': 'GK'}, {'me1': 'Djie', 'name2': 'Xie Zhencheng', 'photo': 'Djie.png (https://dl.airtable.com/.attachments/6d6eeb3e67d357b0bc6102826c6c005b/42005428/Djie.png)', 'position': 'TOP', 'teamname': 'RW', 'Team View': 'RW'}, {'me1': 'Dnan', 'name2': 'Lin Zhiqian', 'photo': 'Dnan.png (https://dl.airtable.com/.attachments/03f541e76d0014488983711098aaaeae/59e256fb/Dnan.png)', 'position': 'BOT', 'teamname': 'RW', 'Team View': 'RW'}, {'me1': 'Huamanlou', 'name2': 'Guo Zeen', 'photo': 'huamanlou.png (https://dl.airtable.com/.attachments/e13a06daa9a8129a0545d888b668e923/d41f35d8/huamanlou.png)', 'position': 'JUNGLE', 'teamname': 'RW', 'Team View': 'RW'}, {'me1': 'ChengKun', 'name2': 'Ying Yuchen', 'photo': 'Chengkun.png (https://dl.airtable.com/.attachments/82bf9255a3e1568442f0d680e5f27c3a/6a292613/Chengkun.png)', 'position': 'SUPPORT', 'teamname': 'RW', 'Team View': 'RW'}, {'me1': 'Yguo', 'name2': 'Lin Jianan', 'photo': 'Yguo.png (https://dl.airtable.com/.attachments/6675a470b8b7b4de30ee0952891a27d7/a0036339/Yguo.png)', 'position': 'MID', 'teamname': 'RW', 'Team View': 'RW'}, {'me1': 'Fly', 'name2': 'Peng Yunfei', 'photo': 'fly.png (https://dl.airtable.com/.attachments/940461c99208debee2c28549b030e2fc/18e7ad9e/fly.png)', 'position': 'BOT', 'teamname': 'QG HAPPY', 'Team View': 'QG HAPPY'}, {'me1': 'Hurt', 'name2': 'Xia Shengqin', 'photo': 'hurt.png (https://dl.airtable.com/.attachments/d24bb32f8aca2f955a665e9291ba6513/c2b1e5f3/hurt.png)', 'position': 'TOP', 'teamname': 'QG HAPPY', 'Team View': 'QG HAPPY'}, {'me1': 'Snow', 'name2': 'Liu Wenbin', 'photo': 'snow.png (https://dl.airtable.com/.attachments/e73a0a3f7e69ed22b8215c741948ef77/0a96703e/snow.png)', 'position': 'SUPPORT', 'teamname': 'QG HAPPY', 'Team View': 'QG HAPPY'}, {'me1': 'Mojo', 'name2': 'Hu Linhua', 'photo': 'mojo.png (https://dl.airtable.com/.attachments/9e0f34b15818120dc420183c08e5af2b/79693bfe/mojo.png)', 'position': 'MID', 'teamname': 'QG HAPPY', 'Team View': 'QG HAPPY'}, {'me1': 'Hico', 'name2': 'Wu Mian', 'photo': 'hico.png (https://dl.airtable.com/.attachments/3f7dcd8e8d921311026046a50046db4d/25ec2b17/hico.png)', 'position': 'JUNGLE', 'teamname': 'QG HAPPY', 'Team View': 'QG HAPPY'}, {'me1': 'JiuC', 'name2': 'Cao Zhishun', 'photo': 'JiuC.png (https://dl.airtable.com/.attachments/a509145b8a8946d7246815121b861c6e/78e6fe53/JiuC.png)', 'position': 'MID', 'teamname': 'HERO', 'Team View': 'HERO'}, {'me1': 'ZuiChu', 'name2': 'Long Zhibiao', 'photo': 'Zuichu.png (https://dl.airtable.com/.attachments/d3dd30a04de6e3a8a89075193c080d07/b3e2e992/Zuichu.png)', 'position': 'SUPPORT', 'teamname': 'HERO', 'Team View': 'HERO'}, {'me1': 'Chenxia', 'name2': 'Wang Qing', 'photo': 'chenxia.png (https://dl.airtable.com/.attachments/a8448af7c05e7b0368f7ff7bfc5e58d2/9cdac8b0/chenxia.png)', 'position': 'TOP', 'teamname': 'HERO', 'Team View': 'HERO'}, {'me1': 'NingZhi', 'name2': 'Yuan Jun', 'photo': 'Ningzhi.png (https://dl.airtable.com/.attachments/95ec6360f085bcf7ad0ac0869b0a8614/e4d9bad8/Ningzhi.png)', 'position': 'BOT', 'teamname': 'HERO', 'Team View': 'HERO'}, {'me1': 'JiuLong', 'name2': 'Kang Junlong', 'photo': 'Jiulong.png (https://dl.airtable.com/.attachments/a192c2019a8bc200c5f34dca1fd2d8f3/29e7161c/Jiulong.png)', 'position': 'JUNGLE', 'teamname': 'HERO', 'Team View': 'HERO'}, {'me1': 'Chuchen', 'name2': 'Tao Chuankai', 'photo': 'chuchen.png (https://dl.airtable.com/.attachments/2c01ccabc2ceb977860208f79ef16eb9/fd27d6d1/chuchen.png)', 'position': 'JUNGLE', 'teamname': 'EDG.M', 'Team View': 'EDG.M'}, {'me1': 'KoKo', 'name2': 'Zhang Wenke', 'photo': 'koko.png (https://dl.airtable.com/.attachments/2a029f5b4ca6f9f937a61dfd9901cc55/20450a9b/koko.png)', 'position': 'SUPPORT', 'teamname': 'EDG.M', 'Team View': 'EDG.M'}, {'me1': 'L Lang', 'name2': 'Liu Peifeng', 'photo': 'llang.png (https://dl.airtable.com/.attachments/ae79996abca928ccf9b7fa85aad39b9a/797cb94b/llang.png)', 'position': 'MID', 'teamname': 'EDG.M', 'Team View': 'EDG.M'}, {'me1': 'Ache', 'name2': 'Chen Linqin', 'photo': 'ache.png (https://dl.airtable.com/.attachments/0d6035604faa2cee9cf57d2ccdc7234a/f961a1a2/ache.png)', 'position': 'TOP', 'teamname': 'EDG.M', 'Team View': 'EDG.M'}, {'me1': 'XuanZe', 'name2': 'Sun Xiaoqiang', 'photo': 'xuanze.png (https://dl.airtable.com/.attachments/9493e2d31cbbaf7045d55c1053ee9c33/d16d4796/xuanze.png)', 'position': 'BOT', 'teamname': 'EDG.M', 'Team View': 'EDG.M'}, {'me1': 'ADOU', 'name2': 'Jiang Tao', 'photo': 'adou.png (https://dl.airtable.com/.attachments/0f8fd4e15bae6c5c4080c2e5940c060e/521eae3c/adou.png)', 'position': 'SUPPORT', 'teamname': 'TS', 'Team View': 'TS'}, {'me1': 'ShenRen', 'name2': 'Ma Tengfei', 'photo': 'shenren.png (https://dl.airtable.com/.attachments/6b77aeb1cf32fa6a793c0ab1970bbe16/2e12c79c/shenren.png)', 'position': 'TOP', 'teamname': 'TS', 'Team View': 'TS'}, {'me1': 'NuanYang', 'name2': 'Lin Heng', 'photo': 'nuanyang.png (https://dl.airtable.com/.attachments/fda0e8a4e17b057d5a14cc9bad67efd6/c640c1d4/nuanyang.png)', 'position': 'JUNGLE', 'teamname': 'TS', 'Team View': 'TS'}, {'me1': 'Thirteen', 'name2': 'Wang Zhi', 'photo': 'shisan.png (https://dl.airtable.com/.attachments/97c0a8e56e3348580a45ef374b901845/6ab43bfc/shisan.png)', 'position': 'BOT', 'teamname': 'TS', 'Team View': 'TS'}, {'me1': 'PoSui', 'name2': 'Li Yijie', 'photo': 'posui.png (https://dl.airtable.com/.attachments/74019484bfa0b71403f983b474c87056/b9f9f31a/posui.png)', 'position': 'MID', 'teamname': 'TS', 'Team View': 'TS'}, {'me1': 'Tgod', 'name2': 'Li Tianshun', 'photo': 'vg-Tgod.png (https://dl.airtable.com/.attachments/5c3c746ea451c3a8d0ed4a4b9e043315/fcfb8ec0/vg-Tgod.png)', 'position': 'TOP', 'teamname': 'VG', 'Team View': 'VG'}, {'me1': 'Kong', 'name2': 'Zhong Kaiqiang', 'photo': 'vg－kong.png (https://dl.airtable.com/.attachments/f9f8418a92dcea2131fbd55e5e937a58/5ef89950/vgkong.png)', 'position': 'JUNGLE', 'teamname': 'VG', 'Team View': 'VG'}, {'me1': 'Smile', 'name2': 'Wang Wenxin', 'photo': 'vg-smile.png (https://dl.airtable.com/.attachments/c1442c33cecf8f57235e9283e6860660/67f29744/vg-smile.png)', 'position': 'MID', 'teamname': 'VG', 'Team View': 'VG'}, {'me1': 'ETong', 'name2': 'Liu Xiang', 'photo': 'vg-Etong.png (https://dl.airtable.com/.attachments/649bd8ce28740796d1f557ead218bf93/ae9dd848/vg-Etong.png)', 'position': 'BOT', 'teamname': 'VG', 'Team View': 'VG'}, {'me1': 'PaPaxiong', 'name2': 'Li Yao', 'photo': 'vg-papaxiong.png (https://dl.airtable.com/.attachments/39b97f5c6867b53f8b40d10bfd2135ca/d21d06cc/vg-papaxiong.png)', 'position': 'SUPPORT', 'teamname': 'VG', 'Team View': 'VG'}, {'me1': 'Ooz', 'name2': 'Zhang Chi', 'photo': 'we-ooz.png (https://dl.airtable.com/.attachments/b3d38b2f2bbced61e5b72f2224e46268/b339bf0f/we-ooz.png)', 'position': 'BOT', 'teamname': 'WE', 'Team View': 'WE'}, {'me1': '762', 'name2': 'Li Jiale', 'photo': 'we-762.png (https://dl.airtable.com/.attachments/933b97b505e987b40941097c1cb145be/868fbb73/we-762.png)', 'position': 'TOP', 'teamname': 'WE', 'Team View': 'WE'}, {'me1': 'DogRan', 'name2': 'Song Wenxu', 'photo': 'we-dogran.png (https://dl.airtable.com/.attachments/e9f76c3872aff1934403be6d1f7e3852/91606511/we-dogran.png)', 'position': 'MID', 'teamname': 'WE', 'Team View': 'WE'}, {'me1': '994', 'name2': 'Lv Zhou', 'photo': 'we-994.png (https://dl.airtable.com/.attachments/361f3595df858ecd27799376f21b8da2/6c96f8a1/we-994.png)', 'position': 'SUPPORT', 'teamname': 'WE', 'Team View': 'WE'}, {'me1': 'BangTu', 'name2': 'Liu Bing', 'photo': 'we-bangtu.png (https://dl.airtable.com/.attachments/3d6b58afb8bfa9fda85ff45dcc020c62/88fead16/we-bangtu.png)', 'position': 'JUNGLE', 'teamname': 'WE', 'Team View': 'WE'}]\n",
      "\n",
      "\n"
     ]
    }
   ],
   "source": [
    "with connection.cursor() as cursor:\n",
    "        sql = \"SELECT * FROM Robsters\"\n",
    "        cursor.execute(sql)\n",
    "        result = cursor.fetchall()\n",
    "        dataset = []\n",
    "        temp = {}\n",
    "        i = 0\n",
    "        for row in result:\n",
    "            temp[i] = row\n",
    "            dataset.append(temp[i])\n",
    "            i = i + 1\n",
    "        print('\\n')\n",
    "        print(dataset)\n",
    "        print('\\n')"
   ]
  },
  {
   "cell_type": "code",
   "execution_count": 24,
   "metadata": {
    "scrolled": true
   },
   "outputs": [
    {
     "name": "stdout",
     "output_type": "stream",
     "text": [
      "[{'team': 'eStarPro', 'area': ['recyH9FaEhtmOldNK'], 'lineup_members': ['recEPMJOuS0Z20XeD', 'rec28HzAk7YuRN64k', 'recIAxpNe64adKHYh', 'recGKx3DeWPx7h3p5', 'recaeuAxvTaWqcO0W'], 'logo': [{'id': 'attAlJ8OGDgibgLOD', 'url': 'https://dl.airtable.com/.attachments/bf1d0ce0f98ed9fba61205fbaddf502e/5df79361/ESTAR.png', 'filename': 'ESTAR.png', 'size': 6583, 'type': 'image/png', 'thumbnails': {'small': {'url': 'https://dl.airtable.com/.attachmentThumbnails/c12b142ae328b22506d012572d0c7b25/f57b1a8f', 'width': 36, 'height': 36}, 'large': {'url': 'https://dl.airtable.com/.attachmentThumbnails/12e79fcee5612dfba6766b32fc573268/956f5000', 'width': 144, 'height': 144}, 'full': {'url': 'https://dl.airtable.com/.attachmentThumbnails/95213547cad22d9c0f93e47a423a4d0b/d0989e66', 'width': 3000, 'height': 3000}}}], 'schedules': ['recxPBk1G9ZgjgxDW', 'recupjxCpanKhJhgZ', 'rec7nsZb8VvCHakoD', 'recJzsbcFokviLCRE', 'recNB4vNHTtgFaNPQ']}, {'team': 'RNG.M', 'area': ['recyH9FaEhtmOldNK'], 'lineup_members': ['reckS1wcYkhxNa7gD', 'rec5YfhO0GU3gJlxj', 'recM8P1CuoJZzGVWc', 'recL0iR9MRDkQ7TfR', 'recvM5gPkiOAZd9m6'], 'logo': [{'id': 'attawAK6etWeSuR25', 'url': 'https://dl.airtable.com/.attachments/3b17adc64ea2769f8047b6a61f850fa5/c3ccc128/RNG.png', 'filename': 'RNG.png', 'size': 1259, 'type': 'image/png', 'thumbnails': {'small': {'url': 'https://dl.airtable.com/.attachmentThumbnails/d824e74620abccab04100ca945d66f65/d363ac07', 'width': 36, 'height': 36}, 'large': {'url': 'https://dl.airtable.com/.attachmentThumbnails/0faa59d0810ba6f08b68788950d44bea/4a786b98', 'width': 144, 'height': 144}, 'full': {'url': 'https://dl.airtable.com/.attachmentThumbnails/91ed67b50f4062d414f74752ca6b16b6/c3aab25d', 'width': 3000, 'height': 3000}}}], 'schedules': ['recH2ISgG38AVHRvk', 'rec5LqaNnmCbXTRwh', 'recNB4vNHTtgFaNPQ']}, {'team': 'RW', 'area': ['rec49lFnJlJ9dk3BR'], 'lineup_members': ['recSZe57eTg4giyo4', 'recgpkbv9RQBNdg4G', 'recOTDFg8gOS4b1Z2', 'reciE46odV3xYFl4i', 'recMc0Eynkv1SjN8S'], 'logo': [{'id': 'attLISoAXIJ1d9UhQ', 'url': 'https://dl.airtable.com/.attachments/e59d6c88c6d2c26feca5e733782ebeb3/bccd81c5/RW.png', 'filename': 'RW.png', 'size': 3763, 'type': 'image/png', 'thumbnails': {'small': {'url': 'https://dl.airtable.com/.attachmentThumbnails/c77a49803e85d2bbbd5527e947b238fe/3cbb7637', 'width': 36, 'height': 36}, 'large': {'url': 'https://dl.airtable.com/.attachmentThumbnails/36dded71bba8bff9eb87c443c418d030/16d7ff33', 'width': 144, 'height': 144}, 'full': {'url': 'https://dl.airtable.com/.attachmentThumbnails/edf153373a9acaa03d1d8885956242e3/cd25f79d', 'width': 3000, 'height': 3000}}}], 'schedules': ['recxPBk1G9ZgjgxDW', 'rec5LqaNnmCbXTRwh', 'recJzsbcFokviLCRE']}, {'team': 'GK', 'area': ['rec49lFnJlJ9dk3BR'], 'lineup_members': ['recxn0mgicHgHWCKy', 'rec3S0tKO22389jm2', 'recNsf3M8jW1CgN1S', 'recL8cDT8ZUuc2D58', 'recCQ3ZDYOXRxOWwi'], 'logo': [{'id': 'att4l0IDIfB1TywKy', 'url': 'https://dl.airtable.com/.attachments/f5c7ec20d2d25a8c548d4b5f86348582/0e740cc6/GK.png', 'filename': 'GK.png', 'size': 14562, 'type': 'image/png', 'thumbnails': {'small': {'url': 'https://dl.airtable.com/.attachmentThumbnails/13eb51797af3cde6d6065b247a4c325d/47804e5a', 'width': 36, 'height': 36}, 'large': {'url': 'https://dl.airtable.com/.attachmentThumbnails/5840b8dcdb94004f9d7f93d23063fd33/e8dc93e2', 'width': 144, 'height': 144}, 'full': {'url': 'https://dl.airtable.com/.attachmentThumbnails/991801065f62b627941da0ec7c67a294/1495baf6', 'width': 3000, 'height': 3000}}}], 'schedules': ['recwywCtYJxynh7aK', 'recH2ISgG38AVHRvk', 'rec7nsZb8VvCHakoD']}, {'team': 'QG HAPPY', 'area': ['recyH9FaEhtmOldNK'], 'lineup_members': ['recPfe6SUOm4en9BQ', 'rec7uBIo1pgVMzHrj', 'recUs78cVAaxxEXMY', 'recyLiKPsuMdKpL0r', 'recdG8LlXDArHhKpv'], 'logo': [{'id': 'attVpTpTTmenzfUMN', 'url': 'https://dl.airtable.com/.attachments/86081b46e5892483987d1cfed5d5578a/3fbf24e5/QG.png', 'filename': 'QG.png', 'size': 14459, 'type': 'image/png', 'thumbnails': {'small': {'url': 'https://dl.airtable.com/.attachmentThumbnails/bba4f409ef2a9d8e20e308729d0dc57a/29f151bc', 'width': 36, 'height': 36}, 'large': {'url': 'https://dl.airtable.com/.attachmentThumbnails/42e0d8957b8a19762198b7f4b3b2bdb1/49db7df4', 'width': 144, 'height': 144}, 'full': {'url': 'https://dl.airtable.com/.attachmentThumbnails/e54765b0e4167331d0027aecb2e2bf09/fb360a0d', 'width': 3000, 'height': 3000}}}], 'schedules': ['recupjxCpanKhJhgZ']}, {'team': 'HERO', 'area': ['rec49lFnJlJ9dk3BR'], 'lineup_members': ['recjICv7mlfLNcYTg', 'rec4Ojs0VyHYwKM4c', 'recJlJEk06L35n0fA', 'rec50Byai4H6Bc5OJ', 'recJfjKbSqiipkpBI'], 'logo': [{'id': 'attfW2KMOCnQ4qTMq', 'url': 'https://dl.airtable.com/.attachments/3336bc0f40c9ee14f8ab743faa0b8c7f/1d62dc84/HERO.png', 'filename': 'HERO.png', 'size': 15512, 'type': 'image/png', 'thumbnails': {'small': {'url': 'https://dl.airtable.com/.attachmentThumbnails/e331c6c45d37c72b5695c89198019d7b/dd8dae90', 'width': 36, 'height': 36}, 'large': {'url': 'https://dl.airtable.com/.attachmentThumbnails/331fd2e5093df7053961304705635850/ad70990c', 'width': 144, 'height': 144}, 'full': {'url': 'https://dl.airtable.com/.attachmentThumbnails/cd09bf9095aa204024b70ffe38c5632d/4afcff1e', 'width': 3000, 'height': 3000}}}], 'schedules': ['recwywCtYJxynh7aK']}, {'team': 'EDG.M', 'area': ['recyH9FaEhtmOldNK'], 'lineup_members': ['recaqX2n6ant7C7Vo', 'recEa4VqftEkdoC59', 'recEihVPvMYQpNJrz', 'recVwR5XdrMLj08Gn', 'recOgvTRfGoI739d9'], 'logo': [{'id': 'att5OflZ7lNrqruEV', 'url': 'https://dl.airtable.com/.attachments/78aadd2a46a04aa6c3c7a865cc0e307a/31e0b37f/EDGM.png', 'filename': 'EDGM.png', 'size': 21330, 'type': 'image/png', 'thumbnails': {'small': {'url': 'https://dl.airtable.com/.attachmentThumbnails/6d1dbfe87b3e6c64f95e36bcb8d7e6cd/349a66c2', 'width': 36, 'height': 36}, 'large': {'url': 'https://dl.airtable.com/.attachmentThumbnails/27050c9cb6efd63abbd71e263785e9b6/df1d9251', 'width': 150, 'height': 150}, 'full': {'url': 'https://dl.airtable.com/.attachmentThumbnails/faf4618ab0f0ad3c131ccb3c5b8b1caa/6e0b0942', 'width': 3000, 'height': 3000}}}], 'schedules': ['recrinPrjGm03i0af']}, {'team': 'TS', 'area': ['rec49lFnJlJ9dk3BR'], 'lineup_members': ['recOhzMHS0HBsXB3h', 'recRrVGi71NqEPoSo', 'recXipzmsV6sTFueg', 'recAiTMRI0eESCaas', 'recSDBGqj3RUhu5iO'], 'logo': [{'id': 'attrEXhxafTH8LHoS', 'url': 'https://dl.airtable.com/.attachments/bc7a05584c4e1910db902f13c9d7e97b/24207377/TS.png', 'filename': 'TS.png', 'size': 26030, 'type': 'image/png', 'thumbnails': {'small': {'url': 'https://dl.airtable.com/.attachmentThumbnails/536b80f509927d4923e48f348d6db7ef/46f3eb62', 'width': 36, 'height': 36}, 'large': {'url': 'https://dl.airtable.com/.attachmentThumbnails/3cdb6e6a44fadbb1670c3bafe30d2580/0c257f98', 'width': 150, 'height': 150}, 'full': {'url': 'https://dl.airtable.com/.attachmentThumbnails/08315cf7f42b62d52bf7b483683ba6f7/6a922039', 'width': 3000, 'height': 3000}}}], 'schedules': ['recrinPrjGm03i0af', 'reclmKSzOmGEb0VWC']}, {'team': 'WE', 'area': ['rec49lFnJlJ9dk3BR'], 'lineup_members': ['reckbHfkCPKrh7Lcw', 'recqXnT9uJHrkHdQH', 'recHH7bmTc2eZb2Od', 'reco5aKMoyWwEbZww', 'recac7uiO7jRJukPG'], 'logo': [{'id': 'attwUU7hbbf8onmTV', 'url': 'https://dl.airtable.com/.attachments/8745ec64783fae26204d3c66ff8fed08/bb4f6358/we.png', 'filename': 'we.png', 'size': 4994, 'type': 'image/png', 'thumbnails': {'small': {'url': 'https://dl.airtable.com/.attachmentThumbnails/007903cabb52ff002c7f711b2e2e93f7/72302ecb', 'width': 36, 'height': 36}, 'large': {'url': 'https://dl.airtable.com/.attachmentThumbnails/d7769045c1dd40bb689749283ca8939c/ca538790', 'width': 200, 'height': 200}, 'full': {'url': 'https://dl.airtable.com/.attachmentThumbnails/59b88c42ef8d579db1ff67c2567d1620/cd42e55d', 'width': 3000, 'height': 3000}}}], 'schedules': ['recxc4b9fjExu8TeI', 'recKfrdhWpyVxYBEW']}, {'team': 'VG', 'area': ['rec49lFnJlJ9dk3BR'], 'lineup_members': ['recm04Eay3JwSDHZU', 'recSJr4AEEQVUqDqk', 'recnawNfYWhgvzYij', 'recBaVRbkZvDL8u3J', 'reco1If7zVIC1BAv5'], 'logo': [{'id': 'attl7qEmCBdBbq8H8', 'url': 'https://dl.airtable.com/.attachments/df792f1eafe760f999522df6542cb00a/793bb43d/VG.png', 'filename': 'VG.png', 'size': 13592, 'type': 'image/png', 'thumbnails': {'small': {'url': 'https://dl.airtable.com/.attachmentThumbnails/f5c5aed3d07e1716882f05fca40ba4e4/781a2d20', 'width': 36, 'height': 36}, 'large': {'url': 'https://dl.airtable.com/.attachmentThumbnails/a40460bbaadd27e6f60f504db1751645/5f301f51', 'width': 144, 'height': 144}, 'full': {'url': 'https://dl.airtable.com/.attachmentThumbnails/87583291bf2d74c09b8d818a8c98bddb/90de0f96', 'width': 3000, 'height': 3000}}}], 'schedules': ['recxc4b9fjExu8TeI']}]\n",
      "\n",
      "\n",
      "['eStarPro', 'RNG.M', 'RW', 'GK', 'QG HAPPY', 'HERO', 'EDG.M', 'TS', 'WE', 'VG']\n"
     ]
    }
   ],
   "source": [
    "import requests\n",
    "\n",
    "headers = {\n",
    "'Authorization': 'Bearer <API Key>',\n",
    "}\n",
    "\n",
    "params = (\n",
    "('view', 'Grid view'),\n",
    ")\n",
    "\n",
    "r = requests.get('https://api.airtable.com/v0/apprsp3Ywu5addhw4/KPL%20Teams?api_key=keylSBEfApc4bXPo6', headers=headers, params=params)\n",
    "dict = r.json()\n",
    "dataset = []\n",
    "team = []\n",
    "area = []\n",
    "lineup_members = []\n",
    "for i in dict['records']:\n",
    "     dict = i['fields']\n",
    "     dataset.append(dict)\n",
    "print(dataset)\n",
    "print('\\n')\n",
    "for dicts in dataset:\n",
    "    team.append(dicts.get('team'))\n",
    "    area.append(dicts.get('area'))\n",
    "    lineup_members.append(dicts.get('lineup_members'))\n",
    "print(team)"
   ]
  },
  {
   "cell_type": "code",
   "execution_count": null,
   "metadata": {},
   "outputs": [],
   "source": []
  }
 ],
 "metadata": {
  "kernelspec": {
   "display_name": "Python 3",
   "language": "python",
   "name": "python3"
  },
  "language_info": {
   "codemirror_mode": {
    "name": "ipython",
    "version": 3
   },
   "file_extension": ".py",
   "mimetype": "text/x-python",
   "name": "python",
   "nbconvert_exporter": "python",
   "pygments_lexer": "ipython3",
   "version": "3.7.4"
  }
 },
 "nbformat": 4,
 "nbformat_minor": 2
}
